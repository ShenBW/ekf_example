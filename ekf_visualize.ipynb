{
 "cells": [
  {
   "cell_type": "code",
   "execution_count": 1,
   "metadata": {},
   "outputs": [],
   "source": [
    "from scipy.stats.distributions import chi2\n",
    "from IPython import display\n",
    "\n",
    "import numpy as np\n",
    "import math\n",
    "import matplotlib.pyplot as plt"
   ]
  },
  {
   "cell_type": "code",
   "execution_count": 2,
   "metadata": {},
   "outputs": [],
   "source": [
    "# a test of narray-based matrix multiplication\n",
    "# a = np.array([[1, 1], [2, 2]])\n",
    "# b = np.array([[3, 3], [4, 4]])\n",
    "# print(a)\n",
    "# print(b)\n",
    "# print(a @ b)\n",
    "# print(a @ b.T)"
   ]
  },
  {
   "cell_type": "code",
   "execution_count": 3,
   "metadata": {},
   "outputs": [],
   "source": [
    "def EKFUpdate(x_hat_last, P_hat_last, y, A, Q, beacon, R):\n",
    "    n = len(x_hat_last)\n",
    "    m = len(y)\n",
    "    \n",
    "    # prediction\n",
    "    x_hat_pred = A @ x_hat_last\n",
    "    P_hat_pred = A @ P_hat_last @ A.T + Q\n",
    "\n",
    "    # measurement update\n",
    "    H = np.zeros([m, n])\n",
    "    for i in range(m):\n",
    "        for j in range(2):\n",
    "            dem = math.sqrt(math.pow((x_hat_pred[0] - beacon[0, i]), 2) + math.pow((x_hat_pred[1] - beacon[1, i]), 2))\n",
    "            H[i, j] = (x_hat_pred[j] - beacon[j, i]) / dem\n",
    "\n",
    "    K = P_hat_pred @ H.T @ np.linalg.inv(H @ P_hat_pred @ H.T + R)\n",
    "    h_no_noise = np.zeros([m])\n",
    "    for i in range(m):\n",
    "        h_no_noise[i] = np.linalg.norm(x_hat_pred[0 : 2] - beacon[:, i])\n",
    "    x_hat_curr = x_hat_pred + K @ (y - h_no_noise)\n",
    "    P_hat_curr = (np.identity(n) - K @ H) @ P_hat_pred\n",
    "\n",
    "    return x_hat_curr, P_hat_curr"
   ]
  },
  {
   "cell_type": "code",
   "execution_count": 4,
   "metadata": {},
   "outputs": [],
   "source": [
    "#  plot cL-confidence ellipsoid for 2D Gaussian random vector with mean and covariance matrix\n",
    "def ConfEllipse(mean, covariance, confidence_level):\n",
    "    # for eigen_vectors, each column is a feature vector\n",
    "    eigen_values, eigen_vectors = np.linalg.eig(covariance)\n",
    "    idx = eigen_values.argsort()[::-1]   \n",
    "    eigen_values = eigen_values[idx]\n",
    "    eigen_vectors = eigen_vectors[:,idx]\n",
    "\n",
    "    chi2_value = chi2.ppf(confidence_level, df = 2)\n",
    "    semi_major_axis = np.sqrt(chi2_value * eigen_values[0])\n",
    "    semi_minor_axis = np.sqrt(chi2_value * eigen_values[1])\n",
    "\n",
    "    theta = np.linspace(0, 2 * math.pi, 628)\n",
    "\n",
    "    standard_ellipse_x = semi_major_axis * np.cos(theta)\n",
    "    standard_ellipse_y = semi_minor_axis * np.sin(theta)\n",
    "\n",
    "    ellipse_xy = eigen_vectors @ np.array([standard_ellipse_x, standard_ellipse_y])\n",
    "    ellipse_x = ellipse_xy[0, :] + mean[0]\n",
    "    ellipse_y = ellipse_xy[1, :] + mean[1]\n",
    "\n",
    "    # rotation_angle = np.arctan2(eigen_vectors[1, 0], eigen_vectors[0, 0])\n",
    "    \n",
    "    # theta = np.linspace(0, 2 * math.pi, 628)\n",
    "    # ellipse_x_1 = mean[0] + semi_major_axis * np.cos(theta) * np.cos(rotation_angle) - semi_minor_axis * np.sin(theta) * np.sin(rotation_angle)\n",
    "    # ellipse_y_1 = mean[1] + semi_major_axis * np.cos(theta) * np.sin(rotation_angle) + semi_minor_axis * np.sin(theta) * np.cos(rotation_angle)\n",
    "\n",
    "    return ellipse_x, ellipse_y"
   ]
  },
  {
   "cell_type": "code",
   "execution_count": 5,
   "metadata": {},
   "outputs": [],
   "source": [
    "def multi(multi, arr):\n",
    "\n",
    "    arr_multi = np.zeros(len(arr))\n",
    "    for i in range(len(arr)):\n",
    "        arr_multi[i] = multi * arr[i]\n",
    "    \n",
    "    return arr_multi\n"
   ]
  },
  {
   "cell_type": "code",
   "execution_count": 6,
   "metadata": {},
   "outputs": [
    {
     "data": {
      "image/png": "[encoded data removed]",
      "text/plain": [
       "<Figure size 640x480 with 1 Axes>"
      ]
     },
     "metadata": {},
     "output_type": "display_data"
    }
   ],
   "source": [
    "beacon = np.array([[-9, 1, 9, 6], [-9, 0, -9, 6]])\n",
    "# pose = np.zeros(2)\n",
    "pose = np.array([-8, 8])\n",
    "\n",
    "t_delta = 0.1\n",
    "# v = np.array([1.0, 1.0])\n",
    "v = np.array([1.0, -1.0])\n",
    "\n",
    "# x_ini = np.append(pose, v)\n",
    "# x_ini = np.array([0.0, 0.0, 0.0, 0.0])\n",
    "x_ini = np.array([-8, 8, 0.0, 0.0])\n",
    "P_ini = np.identity(4)\n",
    "\n",
    "\n",
    "n = np.size(x_ini)\n",
    "m = np.size(beacon[0, :])\n",
    "A = np.array([[1, 0, t_delta, 0], [0, 1, 0, t_delta], [0, 0, 1, 0], [0, 0, 0, 1]])\n",
    "noise_var_state = 0.1\n",
    "noise_var_meas = 0.2\n",
    "Q = noise_var_state * np.identity(n)\n",
    "R = noise_var_meas * np.identity(m)\n",
    "\n",
    "x_hat = x_ini\n",
    "P_hat = P_ini\n",
    "\n",
    "plt.ion()\n",
    "ax = plt.axes(xlim=(-10, 10), ylim=(-10, 10))\n",
    "\n",
    "for i in range(80):\n",
    "    y = np.zeros(m)\n",
    "    for j in range(m):\n",
    "        y[j] = np.linalg.norm(pose - beacon[:, j]) + math.sqrt(noise_var_meas) * np.random.randn(1)[0]\n",
    "    pose = pose + multi(t_delta, v)\n",
    "    x_hat, P_hat = EKFUpdate(x_hat, P_hat, y, A, Q, beacon, R)\n",
    "    ellipse_x, ellipse_y = ConfEllipse(x_hat[0 : 2], P_hat[0 : 2, 0 : 2], 0.95)\n",
    "\n",
    "    plt.cla()\n",
    "    plt.xlim((-10, 10))\n",
    "    plt.ylim((-10, 10))\n",
    "    plt.plot(beacon[0, :], beacon[1, :] ,'ro')\n",
    "    plt.plot(pose[0], pose[1],'bd')\n",
    "    plt.plot(x_hat[0], x_hat[1], 'rx')\n",
    "    plt.plot(ellipse_x, ellipse_y, 'm-.', 'linewidth', 2)\n",
    "    display.clear_output(wait = True)\n",
    "    plt.pause(0.1) \n",
    "\n",
    "plt.show()\n",
    "\n",
    "\n",
    "\n"
   ]
  }
 ],
 "metadata": {
  "kernelspec": {
   "display_name": "base",
   "language": "python",
   "name": "python3"
  },
  "language_info": {
   "codemirror_mode": {
    "name": "ipython",
    "version": 3
   },
   "file_extension": ".py",
   "mimetype": "text/x-python",
   "name": "python",
   "nbconvert_exporter": "python",
   "pygments_lexer": "ipython3",
   "version": "3.9.13"
  },
  "orig_nbformat": 4
 },
 "nbformat": 4,
 "nbformat_minor": 2
}
